{
 "cells": [
  {
   "cell_type": "markdown",
   "metadata": {},
   "source": [
    "<div align=\"center\" id=\"top\">\n",
    " <img src=\"https://socialify.git.ci/julep-ai/julep/image?description=1&descriptionEditable=Rapidly%20build%20AI%20workflows%20and%20agents&font=Source%20Code%20Pro&logo=https%3A%2F%2Fraw.githubusercontent.com%2Fjulep-ai%2Fjulep%2Fdev%2F.github%2Fjulep-logo.svg&owner=1&forks=1&pattern=Solid&stargazers=1&theme=Auto\" alt=\"julep\" width=\"640\" height=\"320\" />\n",
    "</div>\n",
    "\n",
    "<p align=\"center\">\n",
    "  <br />\n",
    "  <a href=\"https://docs.julep.ai\" rel=\"dofollow\">Explore Docs (wip)</a>\n",
    "  ·\n",
    "  <a href=\"https://discord.com/invite/JTSBGRZrzj\" rel=\"dofollow\">Discord</a>\n",
    "  ·\n",
    "  <a href=\"https://x.com/julep_ai\" rel=\"dofollow\">𝕏</a>\n",
    "  ·\n",
    "  <a href=\"https://www.linkedin.com/company/julep-ai\" rel=\"dofollow\">LinkedIn</a>\n",
    "</p>\n",
    "\n",
    "<p align=\"center\">\n",
    "    <a href=\"https://www.npmjs.com/package/@julep/sdk\"><img src=\"https://img.shields.io/npm/v/%40julep%2Fsdk?style=social&amp;logo=npm&amp;link=https%3A%2F%2Fwww.npmjs.com%2Fpackage%2F%40julep%2Fsdk\" alt=\"NPM Version\"></a>\n",
    "    <span>&nbsp;</span>\n",
    "    <a href=\"https://pypi.org/project/julep\"><img src=\"https://img.shields.io/pypi/v/julep?style=social&amp;logo=python&amp;label=PyPI&amp;link=https%3A%2F%2Fpypi.org%2Fproject%2Fjulep\" alt=\"PyPI - Version\"></a>\n",
    "    <span>&nbsp;</span>\n",
    "    <a href=\"https://hub.docker.com/u/julepai\"><img src=\"https://img.shields.io/docker/v/julepai/agents-api?sort=semver&amp;style=social&amp;logo=docker&amp;link=https%3A%2F%2Fhub.docker.com%2Fu%2Fjulepai\" alt=\"Docker Image Version\"></a>\n",
    "    <span>&nbsp;</span>\n",
    "    <a href=\"https://choosealicense.com/licenses/apache/\"><img src=\"https://img.shields.io/github/license/julep-ai/julep\" alt=\"GitHub License\"></a>\n",
    "</p>\n",
    "\n",
    "## Task Definition: Email Assistant\n",
    "\n",
    "### Overview\n",
    "\n",
    "This task creates an email assistant that can receive emails, search through Julep documentation, and respond to user inquiries automatically. It combines email integration with documentation search capabilities to provide relevant and informed responses.\n",
    "\n",
    "### Task Tools:\n",
    "\n",
    "**send_email**: An `integration` type tool that handles email sending via Mailgun SMTP.\n",
    "**search_docs**: A `system` type tool that searches through agent documentation.\n",
    "\n",
    "### Task Input:\n",
    "\n",
    "A dictionary containing:\n",
    "- **from**: Sender's email address\n",
    "- **to**: Recipient's email address\n",
    "- **subject**: Email subject\n",
    "- **body**: Email content\n",
    "\n",
    "### Task Output:\n",
    "\n",
    "An email response sent to the inquirer with:\n",
    "- Generated subject line\n",
    "- Generated response body based on documentation search results\n",
    "\n",
    "### Task Flow\n",
    "\n",
    "1. **Input**: Receive email details (from, to, subject, body)\n",
    "2. **Query Generation**: Generate a search query based on the email content\n",
    "3. **Documentation Search**: Search Julep documentation using the generated query\n",
    "4. **Response Generation**: Create a response using the found documentation\n",
    "5. **Email Sending**: Send the response back to the original sender via Mailgun\n",
    "\n",
    "```plaintext\n",
    "+----------+     +-------------+     +------------+     +-----------+\n",
    "|  Email   |     |    Query    |     |    Doc     |     |  Email    |\n",
    "|  Input   | --> | Generation  | --> |   Search   | --> | Response  |\n",
    "| (Query)  |     |             |     |            |     | Output    |\n",
    "+----------+     +-------------+     +------------+     +-----------+\n",
    "      |                |                  |                  |\n",
    "      |                |                  |                  |\n",
    "      v                v                  v                  v\n",
    "   \"How do I\"     Create search     Find relevant    \"Here's how to\n",
    "  \"use Julep?\"      keywords        documentation    get started...\"\n",
    "```"
   ]
  },
  {
   "cell_type": "markdown",
   "metadata": {},
   "source": [
    "## Implementation\n",
    "\n",
    "To recreate the notebook and see the code implementation for this task, you can access the Google Colab notebook using the link below:\n",
    "\n",
    "<a target=\"_blank\" href=\"https://colab.research.google.com/github/julep-ai/julep/blob/dev/cookbooks/00-Devfest-Email-Assistant.ipynb\">\n",
    "  <img src=\"https://colab.research.google.com/assets/colab-badge.svg\" alt=\"Open In Colab\"/>\n",
    "</a>\n",
    "\n",
    "### Additional Information\n",
    "\n",
    "For more details about the task or if you have any questions, please don't hesitate to contact the author:\n",
    "\n",
    "**Author:** Julep AI  \n",
    "**Contact:** [hey@julep.ai](mailto:hey@julep.ai) or  <a href=\"https://discord.com/invite/JTSBGRZrzj\" rel=\"dofollow\">Discord</a>"
   ]
  },
  {
   "cell_type": "code",
   "execution_count": 22,
   "metadata": {},
   "outputs": [
    {
     "name": "stdout",
     "output_type": "stream",
     "text": [
      "Requirement already satisfied: julep in /home/xmtosx/Work/Julep/julep/agents-api/.venv/lib/python3.12/site-packages (1.43.1)\n",
      "Requirement already satisfied: anyio<5,>=3.5.0 in /home/xmtosx/Work/Julep/julep/agents-api/.venv/lib/python3.12/site-packages (from julep) (4.4.0)\n",
      "Requirement already satisfied: distro<2,>=1.7.0 in /home/xmtosx/Work/Julep/julep/agents-api/.venv/lib/python3.12/site-packages (from julep) (1.9.0)\n",
      "Requirement already satisfied: httpx<1,>=0.23.0 in /home/xmtosx/Work/Julep/julep/agents-api/.venv/lib/python3.12/site-packages (from julep) (0.27.2)\n",
      "Requirement already satisfied: pydantic<3,>=1.9.0 in /home/xmtosx/Work/Julep/julep/agents-api/.venv/lib/python3.12/site-packages (from julep) (2.10.2)\n",
      "Requirement already satisfied: python-dotenv<1.1,>=1.0 in /home/xmtosx/Work/Julep/julep/agents-api/.venv/lib/python3.12/site-packages (from julep) (1.0.1)\n",
      "Requirement already satisfied: ruamel-yaml<0.19,>=0.18.6 in /home/xmtosx/Work/Julep/julep/agents-api/.venv/lib/python3.12/site-packages (from julep) (0.18.6)\n",
      "Requirement already satisfied: sniffio in /home/xmtosx/Work/Julep/julep/agents-api/.venv/lib/python3.12/site-packages (from julep) (1.3.1)\n",
      "Requirement already satisfied: typing-extensions<5,>=4.7 in /home/xmtosx/Work/Julep/julep/agents-api/.venv/lib/python3.12/site-packages (from julep) (4.12.2)\n",
      "Requirement already satisfied: idna>=2.8 in /home/xmtosx/Work/Julep/julep/agents-api/.venv/lib/python3.12/site-packages (from anyio<5,>=3.5.0->julep) (3.10)\n",
      "Requirement already satisfied: certifi in /home/xmtosx/Work/Julep/julep/agents-api/.venv/lib/python3.12/site-packages (from httpx<1,>=0.23.0->julep) (2024.8.30)\n",
      "Requirement already satisfied: httpcore==1.* in /home/xmtosx/Work/Julep/julep/agents-api/.venv/lib/python3.12/site-packages (from httpx<1,>=0.23.0->julep) (1.0.7)\n",
      "Requirement already satisfied: h11<0.15,>=0.13 in /home/xmtosx/Work/Julep/julep/agents-api/.venv/lib/python3.12/site-packages (from httpcore==1.*->httpx<1,>=0.23.0->julep) (0.14.0)\n",
      "Requirement already satisfied: annotated-types>=0.6.0 in /home/xmtosx/Work/Julep/julep/agents-api/.venv/lib/python3.12/site-packages (from pydantic<3,>=1.9.0->julep) (0.7.0)\n",
      "Requirement already satisfied: pydantic-core==2.27.1 in /home/xmtosx/Work/Julep/julep/agents-api/.venv/lib/python3.12/site-packages (from pydantic<3,>=1.9.0->julep) (2.27.1)\n",
      "Requirement already satisfied: ruamel.yaml.clib>=0.2.7 in /home/xmtosx/Work/Julep/julep/agents-api/.venv/lib/python3.12/site-packages (from ruamel-yaml<0.19,>=0.18.6->julep) (0.2.12)\n"
     ]
    }
   ],
   "source": [
    "!pip install julep"
   ]
  },
  {
   "cell_type": "markdown",
   "metadata": {},
   "source": [
    "## Creating Julep Client with the API Key\n",
    "\n",
    "Get you API key from [here](https://dashboard.julep.ai/)"
   ]
  },
  {
   "cell_type": "code",
   "execution_count": 23,
   "metadata": {},
   "outputs": [],
   "source": [
    "import os\n",
    "\n",
    "import yaml\n",
    "from julep import Julep\n",
    "from dotenv import load_dotenv\n",
    "\n",
    "load_dotenv(override=True)\n",
    "\n",
    "api_key = os.getenv(\"JULEP_API_KEY\")\n",
    "\n",
    "julep = Julep(api_key=api_key, environment=\"production\")"
   ]
  },
  {
   "cell_type": "markdown",
   "metadata": {},
   "source": [
    "## Creating an \"agent\"\n",
    "\n",
    "Agent is the object to which LLM settings, like model, temperature along with tools are scoped to.\n",
    "\n",
    "To learn more about the agent, please refer to the [documentation](https://github.com/julep-ai/julep/blob/dev/docs/julep-concepts.md#agent)."
   ]
  },
  {
   "cell_type": "code",
   "execution_count": 24,
   "metadata": {},
   "outputs": [],
   "source": [
    "agent = julep.agents.create(\n",
    "    name=\"Julep Email Assistant\",\n",
    "    about=(\n",
    "        \"You are an agent that handles emails for julep users.\"\n",
    "        + \" Julep is a platform for creating kick-ass AI agents.\"\n",
    "    ),\n",
    "    model=\"gpt-4o\",\n",
    "    default_settings={\"temperature\": 0.2},\n",
    ")"
   ]
  },
  {
   "cell_type": "code",
   "execution_count": 25,
   "metadata": {},
   "outputs": [
    {
     "data": {
      "text/plain": [
       "'067a5e5b-0651-7f64-8000-571e39fa9b30'"
      ]
     },
     "execution_count": 25,
     "metadata": {},
     "output_type": "execute_result"
    }
   ],
   "source": [
    "agent.id"
   ]
  },
  {
   "cell_type": "markdown",
   "metadata": {},
   "source": [
    "## Defining a Task\n",
    "\n",
    "Tasks in Julep are Github-Actions-style workflows that define long-running, multi-step actions.\n",
    "\n",
    "You can use them to conduct complex actions by defining them step-by-step.\n",
    "\n",
    "To learn more about tasks, please refer to the `Tasks` section in [Julep Concepts](https://github.com/julep-ai/julep/blob/dev/docs/julep-concepts.md#tasks)."
   ]
  },
  {
   "cell_type": "code",
   "execution_count": null,
   "metadata": {},
   "outputs": [],
   "source": [
    "mailgun_password = os.getenv(\"MAILGUN_PASSWORD\")\n",
    "\n",
    "task_def = yaml.safe_load(f\"\"\"\n",
    "name: Julep Email Assistant\n",
    "\n",
    "input_schema:\n",
    "  type: object\n",
    "  properties:\n",
    "    from:\n",
    "      type: string\n",
    "    to:\n",
    "      type: string\n",
    "    subject:\n",
    "      type: string\n",
    "    body:\n",
    "      type: string\n",
    "\n",
    "tools:\n",
    "- name: send_email\n",
    "  type: integration\n",
    "  integration:\n",
    "    provider: email\n",
    "    setup:\n",
    "      host: smtp.mailgun.org\n",
    "      password: {mailgun_password}\n",
    "      port: 587\n",
    "      user: postmaster@email.julep.ai\n",
    "\n",
    "- name: search_docs\n",
    "  type: system\n",
    "  system:\n",
    "    resource: agent\n",
    "    subresource: doc\n",
    "    operation: search\n",
    "    \n",
    "main:\n",
    "- prompt: |-\n",
    "    f'''You are {{ agent.name }}. {{ agent.about }}\n",
    "\n",
    "    A user with email address {{ _.from }} has sent the following inquiry:\n",
    "    ------\n",
    "      Subject: {{ _.subject }}\n",
    "\n",
    "      {{ _.body }}\n",
    "    ------\n",
    "\n",
    "    Can you generate a query to search the documentation based on this email?\n",
    "    Just respond with the query as is and nothing else.'''\n",
    "\n",
    "  unwrap: true\n",
    "\n",
    "- tool: search_docs\n",
    "  arguments:\n",
    "    agent_id: {agent.id}\n",
    "    text: _\n",
    "    \n",
    "- prompt: >-\n",
    "    f'''You are {{ agent.name }}. {{ agent.about }}\n",
    "\n",
    "    A user with email address {{ steps[0].input.from }} has sent the following inquiry:\n",
    "    ------\n",
    "      Subject: {{ steps[0].input.subject }}\n",
    "\n",
    "      {{ steps[0].input.body }}\n",
    "    ------\n",
    "\n",
    "    Here are some possibly relevant snippets from the julep documentation:\n",
    "    {{ '\\\\n'.join([snippet.content for doc in _.docs for snippet in doc.snippets]) }}\n",
    "    \n",
    "    ========\n",
    "\n",
    "    Based on the above info, craft an email body to respond with as a json object.\n",
    "    The json object must have `subject` and `body` fields.'''\n",
    "  response_format:\n",
    "    type: json_object\n",
    "    \n",
    "  unwrap: true\n",
    "  \n",
    "- evaluate:\n",
    "    subject: $ load_json(_.split('```json')[1].split('```')[0])['subject']\n",
    "    body: $ load_json(_.split('```json')[1].split('```')[0])['body']\n",
    "    \n",
    "- tool: send_email\n",
    "  arguments:\n",
    "    body: $ _.body\n",
    "    from: postmaster@email.julep.ai\n",
    "    subject: $  _.subject\n",
    "    to: $ steps[0].input['from']\n",
    "\"\"\")"
   ]
  },
  {
   "cell_type": "markdown",
   "metadata": {},
   "source": [
    "<span style=\"color:olive;\">Notes:</span>\n",
    "- The `unwrap: True` in the prompt step is used to unwrap the output of the prompt step (to unwrap the `choices[0].message.content` from the output of the model).\n"
   ]
  },
  {
   "cell_type": "markdown",
   "metadata": {},
   "source": [
    "## Creating a task"
   ]
  },
  {
   "cell_type": "code",
   "execution_count": 28,
   "metadata": {},
   "outputs": [],
   "source": [
    "task = julep.tasks.create(\n",
    "    agent_id=agent.id,\n",
    "    **task_def,\n",
    ")"
   ]
  },
  {
   "cell_type": "code",
   "execution_count": 29,
   "metadata": {},
   "outputs": [
    {
     "data": {
      "text/plain": [
       "'067a5e5c-06d9-788f-8000-b35d78e72bc0'"
      ]
     },
     "execution_count": 29,
     "metadata": {},
     "output_type": "execute_result"
    }
   ],
   "source": [
    "task.id"
   ]
  },
  {
   "cell_type": "markdown",
   "metadata": {},
   "source": [
    "## Creating an Execution\n",
    "\n",
    "An execution is a single run of a task. It is a way to run a task with a specific set of inputs."
   ]
  },
  {
   "cell_type": "code",
   "execution_count": 30,
   "metadata": {},
   "outputs": [],
   "source": [
    "execution = julep.executions.create(\n",
    "    task_id=task.id,\n",
    "    input={\"from\": \"diwank@julep.ai\", \"to\": \"help@agents.new\", \"subject\": \"what's up\", \"body\": \"sup\"},\n",
    ")"
   ]
  },
  {
   "cell_type": "code",
   "execution_count": 31,
   "metadata": {},
   "outputs": [
    {
     "data": {
      "text/plain": [
       "Execution(id='067a5e5c-0aab-7227-8000-61965b0ea1c4', created_at=datetime.datetime(2025, 2, 7, 10, 51, 44, 667044, tzinfo=datetime.timezone.utc), input={'to': 'help@agents.new', 'body': 'sup', 'from': 'diwank@julep.ai', 'subject': \"what's up\"}, status='starting', task_id='067a5e5c-06d9-788f-8000-b35d78e72bc0', updated_at=datetime.datetime(2025, 2, 7, 10, 51, 44, 705438, tzinfo=datetime.timezone.utc), error=None, metadata={}, output={'to': 'help@agents.new', 'body': 'sup', 'from': 'diwank@julep.ai', 'subject': \"what's up\"})"
      ]
     },
     "execution_count": 31,
     "metadata": {},
     "output_type": "execute_result"
    }
   ],
   "source": [
    "julep.executions.get(execution.id)"
   ]
  },
  {
   "cell_type": "markdown",
   "metadata": {},
   "source": [
    "## Checking execution details and output\n",
    "\n",
    "There are multiple ways to get the execution details and the output:\n",
    "\n",
    "1. **Get Execution Details**: This method retrieves the details of the execution, including the output of the last transition that took place.\n",
    "\n",
    "2. **List Transitions**: This method lists all the task steps that have been executed up to this point in time, so the output of a successful execution will be the output of the last transition (first in the transition list as it is in reverse chronological order), which should have a type of `finish`.\n",
    "\n",
    "\n",
    "<span style=\"color:olive;\">Note: You need to wait for a few seconds for the execution to complete before you can get the final output, so feel free to run the following cells multiple times until you get the final output.</span>\n"
   ]
  },
  {
   "cell_type": "code",
   "execution_count": 35,
   "metadata": {},
   "outputs": [
    {
     "name": "stdout",
     "output_type": "stream",
     "text": [
      "Type:  init\n",
      "output:  {'to': 'help@agents.new', 'body': 'sup', 'from': 'diwank@julep.ai', 'subject': \"what's up\"}\n",
      "----------------------------------------------------------------------------------------------------\n",
      "Type:  step\n",
      "output:  I'm sorry, but I need more specific information from the email content to generate an appropriate query for the documentation search. Could you provide the subject and body of the email?\n",
      "----------------------------------------------------------------------------------------------------\n",
      "Type:  step\n",
      "output:  {'docs': [], 'time': 0.0017147064208984375}\n",
      "----------------------------------------------------------------------------------------------------\n",
      "Type:  step\n",
      "output:  To craft a response, I would need specific details from the user's inquiry and relevant snippets from the Julep documentation. Since I don't have access to the actual content of the inquiry or the documentation snippets, I'll provide a general template for how you might structure the JSON response:\n",
      "\n",
      "```json\n",
      "{\n",
      "  \"subject\": \"Re: [Original Subject of the Inquiry]\",\n",
      "  \"body\": \"Hello [User's Name],\\n\\nThank you for reaching out to us with your inquiry about Julep. Based on the information provided, here are some details that might help you:\\n\\n[Include relevant information or answers based on the snippets from the documentation]\\n\\nIf you have any further questions or need additional assistance, feel free to reply to this email.\\n\\nBest regards,\\n\\n[Your Name]\\nJulep Email Assistant\"\n",
      "}\n",
      "```\n",
      "\n",
      "To create a specific response, you would replace placeholders like `[Original Subject of the Inquiry]`, `[User's Name]`, and `[Include relevant information or answers based on the snippets from the documentation]` with the actual content from the user's email and the relevant documentation snippets.\n",
      "----------------------------------------------------------------------------------------------------\n",
      "Type:  step\n",
      "output:  {'body': \"Hello [User's Name],\\n\\nThank you for reaching out to us with your inquiry about Julep. Based on the information provided, here are some details that might help you:\\n\\n[Include relevant information or answers based on the snippets from the documentation]\\n\\nIf you have any further questions or need additional assistance, feel free to reply to this email.\\n\\nBest regards,\\n\\n[Your Name]\\nJulep Email Assistant\", 'subject': 'Re: [Original Subject of the Inquiry]'}\n",
      "----------------------------------------------------------------------------------------------------\n",
      "Type:  finish\n",
      "output:  {'success': True}\n",
      "----------------------------------------------------------------------------------------------------\n"
     ]
    }
   ],
   "source": [
    "execution_transitions = julep.executions.transitions.list(\n",
    "    execution_id=execution.id).items\n",
    "\n",
    "for transition in reversed(execution_transitions):\n",
    "    print(\"Type: \", transition.type)\n",
    "    print(\"output: \", transition.output)\n",
    "    print(\"-\" * 100)"
   ]
  }
 ],
 "metadata": {
  "kernelspec": {
   "display_name": ".venv",
   "language": "python",
   "name": "python3"
  },
  "language_info": {
   "codemirror_mode": {
    "name": "ipython",
    "version": 3
   },
   "file_extension": ".py",
   "mimetype": "text/x-python",
   "name": "python",
   "nbconvert_exporter": "python",
   "pygments_lexer": "ipython3",
   "version": "3.12.3"
  }
 },
 "nbformat": 4,
 "nbformat_minor": 4
}
